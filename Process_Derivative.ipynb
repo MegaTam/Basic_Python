{
 "cells": [
  {
   "cell_type": "code",
   "execution_count": 1,
   "id": "dea57b08",
   "metadata": {},
   "outputs": [],
   "source": [
    "class ProcessDerivative:\n",
    "    def __init__(self, p_input=''):\n",
    "        self.polynomial = p_input\n",
    "\n",
    "    def plus_minus(self):\n",
    "        plus_minus_list = []\n",
    "        for index in range(len(self.polynomial)):\n",
    "            if self.polynomial[index] == '+' or self.polynomial[index] == '-':\n",
    "                plus_minus_list.append(self.polynomial[index])\n",
    "        return plus_minus_list\n",
    "\n",
    "    def separate_by_plus_and_minus(self):\n",
    "        polynomial = self.polynomial\n",
    "        after_split = polynomial.replace('+', '-').split('-')\n",
    "        return after_split\n",
    "\n",
    "    def power(self):\n",
    "        power_list = []\n",
    "        for part in self.separate_by_plus_and_minus():\n",
    "            if part.isdigit():\n",
    "                power_list.append(0)\n",
    "            else:\n",
    "                if '^' not in part:\n",
    "                    power_list.append(1)\n",
    "                else:\n",
    "                    power_list.append(part[-1])\n",
    "        return power_list\n",
    "\n",
    "    def coefficient(self):\n",
    "        coefficient_list = []\n",
    "        for part in self.separate_by_plus_and_minus():\n",
    "            if part.isdigit():\n",
    "                coefficient_list.append(0)\n",
    "            else:\n",
    "                coefficient_list.append(part[0:part.find('*')])\n",
    "        return coefficient_list\n",
    "\n",
    "    def find_variable(self):\n",
    "        for part in self.separate_by_plus_and_minus():\n",
    "            if not part.isdigit():\n",
    "                variable = part[part.find('*') + 1: part.find('^')]\n",
    "                break\n",
    "        return variable\n",
    "\n",
    "    def change(self):\n",
    "        output = ''\n",
    "        for index in range(len(self.power())-1):\n",
    "            power_after = int(self.power()[index]) - 1\n",
    "            coe_after = int(self.power()[index]) * int(self.coefficient()[index])\n",
    "            if coe_after != 0:\n",
    "                if power_after > 1:\n",
    "                    output += str(coe_after) + '*' + self.find_variable() + \\\n",
    "                              '^' + str(power_after) + self.plus_minus()[index]\n",
    "                elif power_after == 1:\n",
    "                    output += str(coe_after) + '*' + self.find_variable() + \\\n",
    "                              self.plus_minus()[index]\n",
    "                else:\n",
    "                    output += str(coe_after)\n",
    "        coe_after = int(self.power()[len(self.power()) - 1]) * int(self.coefficient()[len(self.power()) - 1])\n",
    "        power_after = int(self.power()[len(self.power()) - 1]) - 1\n",
    "        if coe_after != 0:\n",
    "            if power_after > 1:\n",
    "                output += str(coe_after) + '*' + self.find_variable() + '^' + str(power_after)\n",
    "            elif power_after == 1:\n",
    "                output += str(coe_after) + '*' + self.find_variable()\n",
    "            else:\n",
    "                output += str(coe_after)\n",
    "        if output.endswith('+') or output.endswith('-'):\n",
    "            output = output[0:-1]\n",
    "        return output"
   ]
  },
  {
   "cell_type": "code",
   "execution_count": 2,
   "id": "745bdfaa",
   "metadata": {},
   "outputs": [
    {
     "name": "stdout",
     "output_type": "stream",
     "text": [
      "Please input a polynomial: 7*xx^8+9*xx^4-2*xx^3-3*xx^2+5*xx+1\n",
      "56*xx^7+36*xx^3-6*xx^2-6*xx+5\n"
     ]
    }
   ],
   "source": [
    "poly = input('Please input a polynomial: ')\n",
    "print(ProcessDerivative(poly).change())"
   ]
  },
  {
   "cell_type": "code",
   "execution_count": null,
   "id": "b6a50f7f",
   "metadata": {},
   "outputs": [],
   "source": []
  }
 ],
 "metadata": {
  "kernelspec": {
   "display_name": "Python 3 (ipykernel)",
   "language": "python",
   "name": "python3"
  },
  "language_info": {
   "codemirror_mode": {
    "name": "ipython",
    "version": 3
   },
   "file_extension": ".py",
   "mimetype": "text/x-python",
   "name": "python",
   "nbconvert_exporter": "python",
   "pygments_lexer": "ipython3",
   "version": "3.10.5"
  }
 },
 "nbformat": 4,
 "nbformat_minor": 5
}
