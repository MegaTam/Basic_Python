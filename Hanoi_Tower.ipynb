{
 "cells": [
  {
   "cell_type": "code",
   "execution_count": 1,
   "id": "4b0d3c28",
   "metadata": {},
   "outputs": [],
   "source": [
    "def HanoiTower(n):\n",
    "    l = []\n",
    "    l.append((n, ['A', 'B', 'C']))\n",
    "    while len(l) != 0:\n",
    "        current = l.pop()\n",
    "        num = current[0]\n",
    "        rod = current[1]\n",
    "        if num == 1:\n",
    "            print(rod[0], '-->', rod[2])\n",
    "        else:\n",
    "            l.append( (num - 1, [rod[1], rod[0], rod[2]]) )\n",
    "            l.append( (1,       [rod[0], rod[1], rod[2]]) )\n",
    "            l.append( (num - 1, [rod[0], rod[2], rod[1]]) )"
   ]
  },
  {
   "cell_type": "code",
   "execution_count": 2,
   "id": "dae70619",
   "metadata": {},
   "outputs": [
    {
     "name": "stdout",
     "output_type": "stream",
     "text": [
      "Please enter the number of disks: 5\n",
      "A --> C\n",
      "A --> B\n",
      "C --> B\n",
      "A --> C\n",
      "B --> A\n",
      "B --> C\n",
      "A --> C\n",
      "A --> B\n",
      "C --> B\n",
      "C --> A\n",
      "B --> A\n",
      "C --> B\n",
      "A --> C\n",
      "A --> B\n",
      "C --> B\n",
      "A --> C\n",
      "B --> A\n",
      "B --> C\n",
      "A --> C\n",
      "B --> A\n",
      "C --> B\n",
      "C --> A\n",
      "B --> A\n",
      "B --> C\n",
      "A --> C\n",
      "A --> B\n",
      "C --> B\n",
      "A --> C\n",
      "B --> A\n",
      "B --> C\n",
      "A --> C\n"
     ]
    }
   ],
   "source": [
    "n = int(input('Please enter the number of disks: '))\n",
    "HanoiTower(n)"
   ]
  },
  {
   "cell_type": "code",
   "execution_count": null,
   "id": "ad4baeb3",
   "metadata": {},
   "outputs": [],
   "source": []
  }
 ],
 "metadata": {
  "kernelspec": {
   "display_name": "Python 3 (ipykernel)",
   "language": "python",
   "name": "python3"
  },
  "language_info": {
   "codemirror_mode": {
    "name": "ipython",
    "version": 3
   },
   "file_extension": ".py",
   "mimetype": "text/x-python",
   "name": "python",
   "nbconvert_exporter": "python",
   "pygments_lexer": "ipython3",
   "version": "3.10.5"
  }
 },
 "nbformat": 4,
 "nbformat_minor": 5
}
