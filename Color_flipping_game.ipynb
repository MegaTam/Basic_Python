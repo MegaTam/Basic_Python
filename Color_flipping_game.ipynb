{
 "cells": [
  {
   "cell_type": "code",
   "execution_count": 2,
   "id": "9ec11956",
   "metadata": {},
   "outputs": [],
   "source": [
    "'''This is a program to run the Color_Flipping Game\n",
    "    Users can click the 'board' area to choose a tile\n",
    "    and then click the 'Color Set' area to choose a color for the tile to flip to \n",
    "    The final goal is to make the whole board be in only one color'''\n",
    "\n",
    "import turtle\n",
    "import random\n",
    "\n",
    "g_color = []                            # Created to collect index of color that user clicks\n",
    "g_index = []                            # Created to collect index of tile that user clicks\n",
    "g_turtle_list = []                      # Create in total 26 turtles, 1 for the color_set, 25 for the board\n",
    "\n",
    "def transfer(p_num):                    # Transfer number(int) into specific color(str)\n",
    "    if p_num == 0: return 'plum'\n",
    "    elif p_num == 1: return 'goldenrod'\n",
    "    elif p_num == 2: return 'mistyrose'\n",
    "    elif p_num == 3: return 'lightsalmon'\n",
    "    else: return 'darkturquoise'"
   ]
  },
  {
   "cell_type": "code",
   "execution_count": 3,
   "id": "482cf489",
   "metadata": {},
   "outputs": [],
   "source": [
    "''' initialize a game list randomly, conclude different numbers,\n",
    "    the different numbers from 0 to 4 represent different colors from plum to darkturquoise'''\n",
    "def createGame():   \n",
    "    list_of_initial = []\n",
    "    for i in range(25):\n",
    "        list_of_initial.append( random.randint(0,4) )\n",
    "    return list_of_initial"
   ]
  },
  {
   "cell_type": "code",
   "execution_count": 4,
   "id": "c7598335",
   "metadata": {},
   "outputs": [],
   "source": [
    "def colorSet():                          # colorSet() is a line with 5 different colors, index from 0 to 4\n",
    "    for i in range(5):\n",
    "        t.color('black', transfer(i))   # Black for the border color, transfer(i) get specific colors for color set in order\n",
    "        t.stamp()\n",
    "        t.forward(80)\n",
    "\n",
    "def board():                             # board() is essentially a random list of numbers\n",
    "    global g_game\n",
    "    for i in range(25):                  # locate the center of each tile and let the turtle be in a shape of square\n",
    "        coordinate_x, coordinate_y = (i%5) * 80 +140, 460 - (i//5) * 80\n",
    "        t_new = t.clone()                # Use clone() to create 25 turtles to represent 25 tiles\n",
    "        t_new.goto(coordinate_x, coordinate_y)\n",
    "        t_new.color( 'white', transfer(g_game[i]) )\n",
    "        t_new.stamp()                    # Use stamp() to make each turtle(shape of suqare) occur on the canva\n",
    "        g_turtle_list.append(t_new)"
   ]
  },
  {
   "cell_type": "code",
   "execution_count": 5,
   "id": "d0fc02d7",
   "metadata": {},
   "outputs": [],
   "source": [
    "def flipNumber(row, col, game, orig, to):             # A function to run flipping (based on Kinely's program)\n",
    "    if orig == to:\n",
    "        return game\n",
    "    if row < 0 or row >= 5:\n",
    "        return\n",
    "    if col < 0 or col >= 5:\n",
    "        return\n",
    "    idx = row * 5 + col   \n",
    "    if game[idx] != orig:\n",
    "        return\n",
    "    game[idx] = to\n",
    "    flipNumber(row-1, col, game, orig, to)\n",
    "    flipNumber(row+1, col, game, orig, to)\n",
    "    flipNumber(row, col-1, game, orig, to)\n",
    "    flipNumber(row, col+1, game, orig, to)\n",
    "    return game                                      # Return the new game list"
   ]
  },
  {
   "cell_type": "code",
   "execution_count": 6,
   "id": "97278af8",
   "metadata": {},
   "outputs": [],
   "source": [
    "def refresh_Screen(list_of_game):                        \n",
    "    for index in range(25):\n",
    "        g_turtle_list[index].color('white', transfer(g_game[index]))\n",
    "        g_turtle_list[index].stamp()                                   # Everytime after colorflipping, refresh the screen by letting the turtles stamp() again\n",
    "\n",
    "def mouse_click(p_x, p_y): \n",
    "    global g_game\n",
    "    if p_x in range(-40,360) and p_y in range(-40,40):  #If the user clicks on the ColorSet area\n",
    "        g_color.append( choose_color(p_x, p_y) )          #Use choose_color function to get the index of color user has clicked\n",
    "        row_of_tile = g_index[-1] // 5\n",
    "        col_of_tile = g_index[-1] % 5\n",
    "        flipNumber(row_of_tile, col_of_tile, g_game, g_game[ g_index[-1] ], g_color[-1])    #Use flipNumber\n",
    "        refresh_Screen(g_game)\n",
    "    elif p_x in range(100,500) and p_y in range(100,500):  #If the user clicks on the Board area\n",
    "        refresh_Screen(g_game)                              # First refresh the screen to clear all the \"border\"\n",
    "        index = int(  (p_x-100)//80 + 5*( (500-p_y)//80 )  )\n",
    "        g_index.append(index)                              # The  index of -1 of the list g_index is the last click\n",
    "        g_turtle_list[index].color( 'black', transfer(g_game[index]) )  # Use border_color'black' as a border, when the tile is chosen(clicked)\n",
    "        g_turtle_list[index].stamp()\n",
    "\n",
    "''' when user clicks the specific color in the color set, \n",
    "it will return the index of each color'''\n",
    "def choose_color(p_x, p_y):   \n",
    "    return int( (p_x + 40)//80 )                # Get the specific index of each color, according to their coordinate in Color_Set"
   ]
  },
  {
   "cell_type": "code",
   "execution_count": 7,
   "id": "a8b7462b",
   "metadata": {},
   "outputs": [],
   "source": [
    "t = turtle.Turtle()\n",
    "t.penup()\n",
    "t.shape('square')                               # Here turtle itself represents the squares\n",
    "t.shapesize(4,4,3)                              # The shapesize'4,4,3' actually means 'a square of 80*80, withe a border of 3'\n",
    "turtle.screensize(1200,1600)\n",
    "t._tracer(0)\n",
    "g_game = createGame()\n",
    "\n",
    "# Innitialize and start the ColorFlipping game \n",
    "if __name__ == '__main__':\n",
    "    colorSet()\n",
    "    board()\n",
    "    turtle.Screen().onclick(mouse_click)\n",
    "    turtle.Screen().mainloop()"
   ]
  }
 ],
 "metadata": {
  "kernelspec": {
   "display_name": "Python 3 (ipykernel)",
   "language": "python",
   "name": "python3"
  },
  "language_info": {
   "codemirror_mode": {
    "name": "ipython",
    "version": 3
   },
   "file_extension": ".py",
   "mimetype": "text/x-python",
   "name": "python",
   "nbconvert_exporter": "python",
   "pygments_lexer": "ipython3",
   "version": "3.10.5"
  }
 },
 "nbformat": 4,
 "nbformat_minor": 5
}
